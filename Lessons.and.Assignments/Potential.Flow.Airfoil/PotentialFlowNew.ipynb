{
 "cells": [
  {
   "cell_type": "code",
   "execution_count": null,
   "metadata": {},
   "outputs": [],
   "source": [
    "%pip install numpy\n",
    "%pip install matplotlib"
   ]
  },
  {
   "cell_type": "code",
   "execution_count": null,
   "metadata": {},
   "outputs": [],
   "source": [
    "import numpy as np\n",
    "import matplotlib.pyplot as plt\n",
    "%matplotlib inline"
   ]
  },
  {
   "cell_type": "code",
   "execution_count": null,
   "metadata": {},
   "outputs": [],
   "source": [
    "def AFyt(x, t, c):\n",
    "    '''\n",
    "    input: \n",
    "        x: x coordinate of center line, float\n",
    "        t: maximum thickness, in fraction of chord length, float\n",
    "        c: chord lrngth, float\n",
    "    output:\n",
    "        half thickness of airfoil at corresponding x coordinate\n",
    "    '''\n",
    "    return 5. * t * (0.2969 * ((x/c)**0.5) - \n",
    "                     0.126 * (x/c) - \n",
    "                     0.3516 * ((x/c)**2) + \n",
    "                     0.2843 * ((x/c)**3) - \n",
    "                     0.1036 * ((x/c)**4))"
   ]
  },
  {
   "cell_type": "code",
   "execution_count": null,
   "metadata": {},
   "outputs": [],
   "source": [
    "x = np.linspace(0., 1., 101)\n",
    "plt.plot(x, AFyt(x, 0.14, 1.0), 'k-', lw=2)    # upper surface\n",
    "plt.plot(x, - AFyt(x, 0.14, 1.0), 'k-', lw=2)  # lower surface\n",
    "plt.axis('equal'); plt.ylim((-0.5, 0.5))"
   ]
  },
  {
   "cell_type": "code",
   "execution_count": null,
   "metadata": {},
   "outputs": [],
   "source": [
    "def AFyc(x, m, p, c):\n",
    "    '''\n",
    "    input:\n",
    "        x: x coordinate of center line, float\n",
    "        m: the maximum camber (100 m is the first of the four digits), float\n",
    "        p: location of maximum camber (10 p is the second digit), float\n",
    "        c: chord lrngth, float\n",
    "    output:\n",
    "        y coordinate of center line at corresponding x coordinate\n",
    "    '''\n",
    "    if (x >= 0.0) and (x <= p*c):\n",
    "        return m * x * (2. * p - (x/c)) / (p**2.)\n",
    "    elif (x > p*c) and (x <= c):\n",
    "        return m * (c - x) * (1. + (x/c) - 2. * p) / ((1. - p)**2)\n",
    "    else:\n",
    "        raise ValueError"
   ]
  },
  {
   "cell_type": "code",
   "execution_count": null,
   "metadata": {},
   "outputs": [],
   "source": [
    "def AFth(x, m, p, c):\n",
    "    '''\n",
    "    input:\n",
    "        x: x coordinate of center line, float\n",
    "        m: the maximum camber (100 m is the first of the four digits), float\n",
    "        p: location of maximum camber (10 p is the second digit), float\n",
    "        c: chord lrngth, float\n",
    "    output:\n",
    "        angle between center and horizontal line at corresponding x coordinate\n",
    "    '''\n",
    "    if (x >= 0.0) and (x <= p*c):\n",
    "        return np.arctan(2.0 * m * (p - (x/c)) / (p**2))\n",
    "    elif (x > p*c) and (x <= c):\n",
    "        return np.arctan(2.0 * m * (p - (x/c)) / ((1. - p)**2))\n",
    "    else:\n",
    "        raise ValueError"
   ]
  },
  {
   "cell_type": "code",
   "execution_count": null,
   "metadata": {},
   "outputs": [],
   "source": [
    "def AF(x, t, sign, m, p, c):\n",
    "    '''\n",
    "    input:\n",
    "        x: x coordinate of center line, float\n",
    "        t: maximum thickness, in fraction of chord length, float\n",
    "        sign: indicate upper (1) or lower (-1) surface of airfoil\n",
    "        m: the maximum camber (100 m is the first of the four digits), float\n",
    "        p: location of maximum camber (10 p is the second digit), float\n",
    "        c: chord lrngth, float\n",
    "    output:\n",
    "        x, y coordinates on airfoil surface at corresponding \n",
    "        center line x coordinate\n",
    "    '''\n",
    "    if (m == 0.) or (p == 0):\n",
    "        return x, sign * AFyt(x, t, c)\n",
    "    else:\n",
    "        return np.array([x[i] - \n",
    "                         sign * AFyt(x[i], t, c) * np.sin(AFth(x[i], m, p, c)) \n",
    "                         for i in range(np.size(x))]), \\\n",
    "               np.array([AFyc(x[i], m, p, c) + \n",
    "                         sign * AFyt(x[i], t, c) * np.cos(AFth(x[i], m, p, c))\n",
    "                         for i in range(np.size(x))])"
   ]
  },
  {
   "cell_type": "code",
   "execution_count": null,
   "metadata": {},
   "outputs": [],
   "source": [
    "x = np.linspace(0., 1., 101)\n",
    "xU, yU = AF(x, 0.12, 1, 0.02, 0.4, 1.0)\n",
    "xL, yL = AF(x, 0.12, -1, 0.02, 0.4, 1.0)\n",
    "plt.plot(xU, yU, 'k-', lw=2)\n",
    "plt.plot(xL, yL, 'k-', lw=2)\n",
    "plt.axis('equal'); plt.ylim((-0.5, 0.5))\n",
    "print(\"x:\",str(x))"
   ]
  },
  {
   "cell_type": "code",
   "execution_count": null,
   "metadata": {},
   "outputs": [],
   "source": [
    "Nxi = 51\n",
    "Neta = 21\n",
    "eta, xi = np.meshgrid(np.linspace(0, Neta-1, Neta), np.linspace(0, Nxi-1, Nxi))"
   ]
  },
  {
   "cell_type": "code",
   "execution_count": null,
   "metadata": {},
   "outputs": [],
   "source": [
    "def plotMesh(x, y):\n",
    "    for i in range(Nxi):\n",
    "        plt.plot(x[i, :], y[i, :], 'k.-', lw=2)\n",
    "    for i in range(Neta):\n",
    "        plt.plot(x[:, i], y[:, i], 'k.-', lw=2)"
   ]
  },
  {
   "cell_type": "code",
   "execution_count": null,
   "metadata": {},
   "outputs": [],
   "source": [
    "plotMesh(xi, eta)\n"
   ]
  },
  {
   "cell_type": "code",
   "execution_count": null,
   "metadata": {},
   "outputs": [],
   "source": [
    "rBC = 5.0    # the radius of outer boundary\n",
    "m, p, t, c = 0.02, 0.4, 0.12, 1.0    # parameters of NACA 2412 airfoil\n",
    "\n",
    "# Initialize x[i, j] and y[i, j]\n",
    "x = np.empty((Nxi, Neta))\n",
    "y = np.empty((Nxi, Neta))\n",
    "\n",
    "# Generate grid points on airfoil surface\n",
    "Nxc = (Nxi-1)/2 + 1\n",
    "Nxc = int(Nxc)\n",
    "xc = np.linspace(0., 1., Nxc)\n",
    "xU, yU = AF(xc, 0.12, 1, 0.02, 0.4, 1.0)\n",
    "xL, yL = AF(xc, 0.12, -1, 0.02, 0.4, 1.0)\n",
    "\n",
    "# Set x_{i, j=0} and y_{i, j=0}\n",
    "x[:Nxc, 0] = xL[-1::-1].copy()\n",
    "x[Nxc:, 0] = xU[1:].copy()\n",
    "\n",
    "y[:Nxc, 0] = yL[-1::-1].copy()\n",
    "y[Nxc:, 0] = yU[1:].copy()\n",
    "\n",
    "# Generate grid points on circular outer boundary\n",
    "# and set x_{i, j=-1}, y_{i, j=-1}\n",
    "dr = 2. * np.pi / (Nxi -1)\n",
    "th = - np.array([i * dr for i in range(Nxi)])\n",
    "x[:, -1] = rBC * np.cos(th) + 0.5 * c\n",
    "y[:, -1] = rBC * np.sin(th)"
   ]
  },
  {
   "cell_type": "code",
   "execution_count": null,
   "metadata": {},
   "outputs": [],
   "source": [
    "\n",
    "for i in range(Nxi):\n",
    "    x[i, 1:-1] = np.linspace(x[i, 0], x[i, -1], Neta)[1:-1]\n",
    "    y[i, 1:-1] = np.linspace(y[i, 0], y[i, -1], Neta)[1:-1]"
   ]
  },
  {
   "cell_type": "code",
   "execution_count": null,
   "metadata": {},
   "outputs": [],
   "source": [
    "plt.figure(figsize=(8, 8), dpi=100)\n",
    "plotMesh(x, y)\n",
    "plt.axis('equal')\n",
    "plt.xlim((-4.5, 5.5)); plt.ylim((-5, 5))"
   ]
  },
  {
   "cell_type": "code",
   "execution_count": null,
   "metadata": {},
   "outputs": [],
   "source": [
    "plt.figure(figsize=(8, 8), dpi=100)\n",
    "plotMesh(x, y)\n",
    "plt.axis('equal')\n",
    "plt.xlim((-0.5, 1.5)); plt.ylim((-1, 1))\n",
    "     "
   ]
  },
  {
   "cell_type": "code",
   "execution_count": null,
   "metadata": {},
   "outputs": [],
   "source": [
    "def Solve_a_b_c(x, y):\n",
    "    '''\n",
    "    input:\n",
    "        x: the x coordinate of x_{i=i-1~i+1, j=j-1~j+1}, at least 3x3 array\n",
    "        y: the y coordinate of y_{i=i-1~i+1, j=j-1~j+1}, at least 3x3 array\n",
    "    output:\n",
    "        a, b, c: at least 1x1 float\n",
    "    '''\n",
    "    a = 0.25 * (((x[1:-1, 2:] - x[1:-1, :-2])**2) + \n",
    "                ((y[1:-1, 2:] - y[1:-1, :-2])**2))\n",
    "    b = 0.25 * ((x[2:, 1:-1] - x[:-2, 1:-1]) * \n",
    "                (x[1:-1, 2:] - x[1:-1, :-2]) + \n",
    "                (y[2:, 1:-1] - y[:-2, 1:-1]) * \n",
    "                (y[1:-1, 2:] - y[1:-1, :-2]))\n",
    "    c = 0.25 * (((x[2:, 1:-1] - x[:-2, 1:-1])**2) + \n",
    "                ((y[2:, 1:-1] - y[:-2, 1:-1])**2))\n",
    "    return a, b, c"
   ]
  },
  {
   "cell_type": "code",
   "execution_count": null,
   "metadata": {},
   "outputs": [],
   "source": [
    "def SolveEq(a, b, c, U):\n",
    "    '''\n",
    "    input:\n",
    "        a, b, c: as described in the content\n",
    "        U: the result of the last iteration\n",
    "    output:\n",
    "        return the result of current iteration\n",
    "    '''\n",
    "    return 0.5 * (\n",
    "                  a * (U[2:, 1:-1] + U[:-2, 1:-1]) + \n",
    "                  c * (U[1:-1, 2:] + U[1:-1, :-2]) -\n",
    "                  b * 0.5 * (U[2:, 2:] - U[2:, :-2] + U[:-2, :-2] - U[:-2, 2:])\n",
    "                 ) / (a + c)"
   ]
  },
  {
   "cell_type": "code",
   "execution_count": null,
   "metadata": {},
   "outputs": [],
   "source": [
    "iters=0\n",
    "while True:\n",
    "    \n",
    "    # count the number of iterations\n",
    "    iters += 1\n",
    "    \n",
    "    # backup the last result\n",
    "    xn = x.copy()\n",
    "    yn = y.copy()\n",
    "    \n",
    "    # solve periodic BC first\n",
    "    tempx = np.append([x[-2, :].copy()], x[0:2, :].copy(), 0) \n",
    "    tempy = np.append([y[-2, :].copy()], y[0:2, :].copy(), 0)\n",
    "    a, b, c = Solve_a_b_c(tempx, tempy)\n",
    "    x[0, 1:-1] = SolveEq(a, b, c, tempx)\n",
    "    y[0, 1:-1] = SolveEq(a, b, c, tempy)\n",
    "\n",
    "    x[-1, 1:-1] = x[0, 1:-1].copy()\n",
    "    y[-1, 1:-1] = y[0, 1:-1].copy()\n",
    "    \n",
    "    # solve interior\n",
    "    a, b, c = Solve_a_b_c(x, y)\n",
    "    x[1:-1, 1:-1] = SolveEq(a, b, c, x)\n",
    "    y[1:-1, 1:-1] = SolveEq(a, b, c, y)\n",
    "    \n",
    "    # calculate difference between current and the last result\n",
    "    errx = np.abs(x - xn)\n",
    "    erry = np.abs(y - yn)\n",
    "    \n",
    "    # adjudge whether the iteration should stop\n",
    "    if (errx.max() <= 1e-6) and (erry.max() <= 1e-6):\n",
    "        break"
   ]
  },
  {
   "cell_type": "code",
   "execution_count": null,
   "metadata": {},
   "outputs": [],
   "source": [
    "plt.figure(figsize=(8, 8), dpi=100)\n",
    "plotMesh(x, y)\n",
    "plt.axis('equal')\n",
    "plt.xlim((-4.5, 5.5)); plt.ylim((-5, 5))"
   ]
  },
  {
   "cell_type": "code",
   "execution_count": null,
   "metadata": {},
   "outputs": [],
   "source": [
    "plt.figure(figsize=(8, 8), dpi=100)\n",
    "plotMesh(x, y)\n",
    "plt.axis('equal')\n",
    "plt.xlim((-0.5, 1.5)); plt.ylim((-1, 1))"
   ]
  },
  {
   "cell_type": "code",
   "execution_count": null,
   "metadata": {},
   "outputs": [],
   "source": [
    "# set angle of attact\n",
    "AOA = 15. / 180. * np.pi\n",
    "\n",
    "# set free stream velocity\n",
    "Vinf = 70.\n",
    "\n",
    "# initialize stram functions\n",
    "stream = np.zeros((Nxi, Neta))\n",
    "\n",
    "# set up the BCs on the outer boundary\n",
    "stream[:, -1] = - x[:, -1] * Vinf * np.sin(AOA) + y[:, -1] * Vinf * np.cos(AOA)\n",
    "\n",
    "# solve the PDE by iterative method\n",
    "iters = 0\n",
    "while True:\n",
    "    \n",
    "    # count the number of current interation\n",
    "    iters += 1\n",
    "    \n",
    "    # backup the last result\n",
    "    stream_n = stream.copy()\n",
    "    \n",
    "    # apply periodic BC on dividing line\n",
    "    temp = np.append([stream[-2, :].copy()], stream[:2, :].copy(), 0)\n",
    "    tempx = np.append([x[-2, :].copy()], x[:2, :].copy(), 0) \n",
    "    tempy = np.append([y[-2, :].copy()], y[:2, :].copy(), 0)\n",
    "    a, b, c = Solve_a_b_c(tempx, tempy)\n",
    "    stream[0, 1:-1] = SolveEq(a, b, c, temp)\n",
    "    stream[-1, :] = stream[0, :].copy()\n",
    "    \n",
    "    # apply Kutta condition \n",
    "    # and set the value of stream function on the airfoil surface\n",
    "    stream[:, 0] = stream[0, 1]\n",
    "\n",
    "    # solve interior\n",
    "    a, b, c = Solve_a_b_c(x, y)\n",
    "    stream[1:-1, 1:-1] = SolveEq(a, b, c, stream)\n",
    "    \n",
    "    # calculate difference between current and the last result\n",
    "    err = np.abs(stream - stream_n)\n",
    "    \n",
    "    # adjudge whether the iteration should stop\n",
    "    if (err.max() <= 1e-6):\n",
    "        break"
   ]
  },
  {
   "cell_type": "code",
   "execution_count": null,
   "metadata": {},
   "outputs": [],
   "source": [
    "stream = stream - stream[0, 0]\n"
   ]
  },
  {
   "cell_type": "code",
   "execution_count": null,
   "metadata": {},
   "outputs": [],
   "source": [
    "# set the contour lines with negative values to be solid lines\n",
    "import matplotlib as mpl\n",
    "mpl.rcParams['contour.negative_linestyle'] = 'solid'\n",
    "\n",
    "# contour\n",
    "plt.figure(figsize=(10, 8), dpi=100)\n",
    "cs = plt.contour(x, y, stream, 100, colors='k')\n",
    "plt.clabel(cs)\n",
    "plt.plot(x[:, 0], y[:, 0], 'k-', lw=1) # plot the airfoil\n",
    "plt.xlim((-2., 3.))\n",
    "plt.ylim((-1.5, 1.5))"
   ]
  },
  {
   "cell_type": "code",
   "execution_count": null,
   "metadata": {},
   "outputs": [],
   "source": [
    "from IPython.core.display import HTML\n",
    "css_file = '../../styles/numericalmoocstyle.css'\n",
    "HTML(open(css_file, \"r\").read())"
   ]
  }
 ],
 "metadata": {
  "kernelspec": {
   "display_name": "Python 3",
   "language": "python",
   "name": "python3"
  },
  "language_info": {
   "codemirror_mode": {
    "name": "ipython",
    "version": 3
   },
   "file_extension": ".py",
   "mimetype": "text/x-python",
   "name": "python",
   "nbconvert_exporter": "python",
   "pygments_lexer": "ipython3",
   "version": "3.12.3"
  }
 },
 "nbformat": 4,
 "nbformat_minor": 2
}
