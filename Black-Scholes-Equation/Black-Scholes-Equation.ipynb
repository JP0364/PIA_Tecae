{
 "metadata": {
  "name": "",
  "signature": "sha256:c628e23f3c428e471e44b647677fbfbdba4dfb9114ecfd069508025de4185bea"
 },
 "nbformat": 3,
 "nbformat_minor": 0,
 "worksheets": [
  {
   "cells": [
    {
     "cell_type": "heading",
     "level": 6,
     "metadata": {},
     "source": [
      "Content under Creative Commons Attribution license CC-BY 4.0, code under MIT license (c)2014 Tingyu Wang."
     ]
    },
    {
     "cell_type": "heading",
     "level": 1,
     "metadata": {},
     "source": [
      "Black-Scholes Equation"
     ]
    },
    {
     "cell_type": "markdown",
     "metadata": {},
     "source": [
      "A partial differential equation cannot only describe physical phenomena (such as wave propagation, heat transfer and fluid flow), but can also be used to formulate some economic and financial models. The *Black\u2013Scholes* model was first published by *Fischer Black* and *Myron Scholes* in 1973. I first read this equation through a book called \"*17 equations that changed the world*\"."
     ]
    },
    {
     "cell_type": "heading",
     "level": 5,
     "metadata": {},
     "source": [
      "What is Black-Scholes Equation?"
     ]
    },
    {
     "cell_type": "markdown",
     "metadata": {},
     "source": [
      "**Options** are used on markets and exchanges. In finance, an option is a contract which gives the buyer (the owner) the right, but not the obligation, to buy or sell an underlying asset or instrument at a specified strike price on or before a specified date. The *Black-Scholes* model is a convenient way to calculate **the price of an option** ($V$) as a function of **the current value of underlying asset** ($S$) and **time** ($t$). In this notebook, we will use finite difference methods to solve the following nonlinear second-order parabolic equation. \n",
      "\n",
      "$$\\begin{equation}\n",
      "\\frac{\\partial V}{\\partial t}(S, t) + \\frac{1}{2} \\sigma^2 S^2 \\frac{\\partial^2 V}{\\partial S^2}(S, t) + rS \\frac{\\partial V}{\\partial S}(S, t) - rV(S, t) = 0\n",
      "\\end{equation}$$\n",
      "\n",
      "$r$ denotes the no-risk interest rate (*ex*.saving rate in bank), and $\\sigma$ denotes the volatility of underlying asset (*ex*.the standard deviation of the stock's returns)."
     ]
    },
    {
     "cell_type": "heading",
     "level": 5,
     "metadata": {},
     "source": [
      "Why we use it?"
     ]
    },
    {
     "cell_type": "markdown",
     "metadata": {},
     "source": [
      "Buyers and sellers use financial derivatives (*derivative here means a contract of some underlying assets*) to **offset risk** in their portfolios. The key idea behind the model is to hedge the option by buying and selling the underlying asset in just the right way and, as a consequence, to eliminate risk. This type of hedging is the basis of more complicated hedging strategies such as those engaged in by investment banks and hedge funds. If investors want to trade their financial derivatives, this equation gives a view of **the pricing strategy**. "
     ]
    },
    {
     "cell_type": "heading",
     "level": 5,
     "metadata": {},
     "source": [
      "Call & Put options"
     ]
    },
    {
     "cell_type": "markdown",
     "metadata": {},
     "source": [
      "Recall that $V(S,t)$ stands for the price of option. And there are two kinds of option: **call** option $C(S,t)$ and **put** option $P(S,t)$. \"Call\" means the buyer have the right to buy some amount of the underlying assets from seller at a certain price (called **exercise price** $E$) before the expiration date. \"Put\" means the seller have the right to sell some amount of the underlying assets to buyer at a certain price before the expiration date. Click the short video below for real-world examples."
     ]
    },
    {
     "cell_type": "code",
     "collapsed": false,
     "input": [
      "from IPython.display import YouTubeVideo\n",
      "YouTubeVideo('EfmTWu2yn5Q')"
     ],
     "language": "python",
     "metadata": {},
     "outputs": [
      {
       "html": [
        "\n",
        "        <iframe\n",
        "            width=\"400\"\n",
        "            height=300\"\n",
        "            src=\"https://www.youtube.com/embed/EfmTWu2yn5Q\"\n",
        "            frameborder=\"0\"\n",
        "            allowfullscreen\n",
        "        ></iframe>\n",
        "        "
       ],
       "metadata": {},
       "output_type": "pyout",
       "prompt_number": 3,
       "text": [
        "<IPython.lib.display.YouTubeVideo at 0x104482710>"
       ]
      }
     ],
     "prompt_number": 3
    },
    {
     "cell_type": "heading",
     "level": 5,
     "metadata": {},
     "source": [
      "Finite difference methods"
     ]
    },
    {
     "cell_type": "markdown",
     "metadata": {},
     "source": [
      "Now let's solve a practical problem using our numerical skills! \n",
      "\n",
      "Consider an European call style option is made for a security currently trading at  40 dollar per share with volatility 0.4. The term is 3 months (0.25 year) and the strike price is 10 dollar. The prevailing no-risk interest rate is 10 %. What should the price per share be for the option?\n",
      "\n",
      "The time interval $[0,T]$ is divided into $N$ equally sized subintervals of length $\\Delta t$. The price of the underlying asset will take values in the unbounded interval $[0,\\infty)$. However, an artifical limit $S_{max}$ is introduced. The interval $[0, S_{max}]$ is divided into $M$ equally sized subintervals of length $\\Delta S$.\n"
     ]
    },
    {
     "cell_type": "code",
     "collapsed": false,
     "input": [
      "%matplotlib inline\n",
      "import numpy as np\n",
      "import matplotlib.pyplot as plt\n",
      "\n",
      "T = 0.25       # expiration time\n",
      "N = 2000\n",
      "dt = T/N\n",
      "S_max = 40     # price of the underlying asset\n",
      "M = 200\n",
      "s = np.linspace(0, S_max, M+1)\n",
      "\n",
      "r = 0.1        # no-risk interest rate\n",
      "sigma = 0.4    # volatility of underlying asset\n",
      "E = 10.        # the exercise price"
     ],
     "language": "python",
     "metadata": {},
     "outputs": [],
     "prompt_number": 34
    },
    {
     "cell_type": "markdown",
     "metadata": {},
     "source": [
      "\n",
      "In the following code, we are calculating an European call option. \"*European*\" means options can only be exercised at time $t=T$. So we have the final condition such as $C(S,T) = C_T(S)$. However, in a numerical code, we prefer a initial condition rather than final condition. So we apply the change of variable: $t_{new} = T -t$. Thus, the new equation we are solving should look like this (note the sign changes):\n",
      "\n",
      "$$\\begin{equation}\n",
      "\\frac{\\partial C}{\\partial t}(S, t) - \\frac{1}{2} \\sigma^2 S^2 \\frac{\\partial^2 C}{\\partial S^2}(S, t) - rS \\frac{\\partial C}{\\partial S}(S, t) + rC(S, t) = 0\n",
      "\\end{equation}$$\n",
      "\n",
      "For the explicit method, we use a forward difference scheme in time $t$, and a central difference scheme in value of underlying asset $S$. From the discretized form of equation, we can rearrange the equation as following: \n",
      "\n",
      "$$\\begin{equation}\n",
      "C_i^{n+1} = \\frac{1}{2}(\\sigma^2 i^2 \\Delta t-ri\\Delta t)C_{i-1}^n + (1 - \\sigma^2 i^2 \\Delta t -r \\Delta t) C_i^n + \\frac{1}{2}(\\sigma^2 i^2 \\Delta t+ri\\Delta t)C_{i+1}^n \n",
      "\\end{equation}$$\n",
      "\n",
      "We can find that the price of option at $(n+1)$ time step $C_i^{n+1}$ does not depend on $\\Delta S$. And since there is $i$ in the equation, we can no longer use vectorized stencil operation instead of double loops.\n",
      "\n",
      "The boundary conditions are:\n",
      "\n",
      "$$\\begin{equation}\n",
      "C(0,t) = 0\\\\\n",
      "C(S_{max},t) = S_{max} - E\n",
      "\\end{equation}$$\n",
      "\n",
      "The initial conditions are:\n",
      "$$\\begin{equation}\n",
      "C(S,0) = max (S-E,0)\n",
      "\\end{equation}$$"
     ]
    },
    {
     "cell_type": "code",
     "collapsed": false,
     "input": [
      "# initial condition\n",
      "C = np.zeros(M+1)\n",
      "C = s - E\n",
      "for i in range(M+1):\n",
      "    if C[i] < 0:\n",
      "        C[i] = 0\n",
      "Cn = np.zeros(M+1)"
     ],
     "language": "python",
     "metadata": {},
     "outputs": [],
     "prompt_number": 16
    },
    {
     "cell_type": "code",
     "collapsed": false,
     "input": [
      "for n in range(N):\n",
      "    Cn = C.copy()\n",
      "    for i in range(1,M):\n",
      "        C[i] = 0.5 * (sigma**2 * i**2 * dt - r*i*dt) * Cn[i-1] \\\n",
      "             +       (1 - sigma**2* i**2 *dt - r*dt) * Cn[i]   \\\n",
      "             + 0.5 * (sigma**2 * i**2 * dt + r*i*dt) * Cn[i+1]\n",
      "print 'the price of the call option should be around {}, \\\n",
      "if the price of stock is 20 dollar.'.format(C[M/2])"
     ],
     "language": "python",
     "metadata": {},
     "outputs": [
      {
       "output_type": "stream",
       "stream": "stdout",
       "text": [
        "the price of the call option should be around 11.9942652485, if the price of stock is 20 dollar.\n"
       ]
      }
     ],
     "prompt_number": 53
    },
    {
     "cell_type": "markdown",
     "metadata": {},
     "source": [
      "Here we get the solution of the European call option problem. Then we compared the numerical result with the result given by a statistical method:\n",
      "\n",
      "$$\\begin{equation}\n",
      "C(S,t) = SN(d_1) -Ee^{-rT}N(d_2)\n",
      "\\end{equation}$$\n",
      "\n",
      "N(x) is the cumulative distribution function for a standardised normal random variable (we use *norm.cdf* to calculate in python), given by\n",
      "\n",
      "$$\\begin{equation}\n",
      "N(x) = \\frac{1}{\\sqrt{2\\pi}} \\int_{-\\infty}^{x} {e^{-\\frac{1}{2}y^2}dy}\n",
      "\\end{equation}$$\n",
      "\n",
      "and\n",
      "\n",
      "$$\\begin{equation}\n",
      "d_1 = \\frac{ln(S/E)+(r + \\frac{1}{2}\\sigma^2)T}{\\sigma \\sqrt{T}}\\\\\n",
      "d_2 = d_1 - \\sigma \\sqrt{T}\n",
      "\\end{equation}$$"
     ]
    },
    {
     "cell_type": "code",
     "collapsed": false,
     "input": [
      "from scipy.stats import norm\n",
      "import math\n",
      "C_stat = np.zeros(M+1)\n",
      "for i in range(M+1):\n",
      "    d1 = (math.log1p(s[i]/E) + (r+0.5*sigma**2)*T) / (sigma * math.sqrt(T))\n",
      "    d2 = d1 - (sigma * math.sqrt(T))\n",
      "    C_stat[i] = s[i] * norm.cdf(d1) - E*math.exp(-r*T) * norm.cdf(d2)"
     ],
     "language": "python",
     "metadata": {},
     "outputs": [],
     "prompt_number": 42
    },
    {
     "cell_type": "code",
     "collapsed": false,
     "input": [
      "plt.figure(figsize=(8,5), dpi=100)\n",
      "plt.plot(s,C,color='#003366', ls='--', lw=3, label='Computational');\n",
      "plt.plot(s,C_stat, label='Statistical');\n",
      "plt.xlabel('S')\n",
      "plt.ylabel('C')\n",
      "plt.legend();"
     ],
     "language": "python",
     "metadata": {},
     "outputs": [
      {
       "metadata": {},
       "output_type": "display_data",
       "png": "[encoded data removed]",
       "text": [
        "<matplotlib.figure.Figure at 0x10bc39750>"
       ]
      }
     ],
     "prompt_number": 49
    },
    {
     "cell_type": "markdown",
     "metadata": {},
     "source": [
      "We compare the results between numerical method and statistical method. They match well after $S>10$."
     ]
    },
    {
     "cell_type": "code",
     "collapsed": false,
     "input": [
      "from IPython.core.display import HTML\n",
      "css_file = '../styles/numericalmoocstyle.css'\n",
      "HTML(open(css_file, \"r\").read())"
     ],
     "language": "python",
     "metadata": {},
     "outputs": [
      {
       "html": [
        "<link href='http://fonts.googleapis.com/css?family=Alegreya+Sans:100,300,400,500,700,800,900,100italic,300italic,400italic,500italic,700italic,800italic,900italic' rel='stylesheet' type='text/css'>\n",
        "<link href='http://fonts.googleapis.com/css?family=Arvo:400,700,400italic' rel='stylesheet' type='text/css'>\n",
        "<link href='http://fonts.googleapis.com/css?family=PT+Mono' rel='stylesheet' type='text/css'>\n",
        "<link href='http://fonts.googleapis.com/css?family=Shadows+Into+Light' rel='stylesheet' type='text/css'>\n",
        "<link href='http://fonts.googleapis.com/css?family=Nixie+One' rel='stylesheet' type='text/css'>\n",
        "<style>\n",
        "\n",
        "@font-face {\n",
        "    font-family: \"Computer Modern\";\n",
        "    src: url('http://mirrors.ctan.org/fonts/cm-unicode/fonts/otf/cmunss.otf');\n",
        "}\n",
        "\n",
        "#notebook_panel { /* main background */\n",
        "    background: rgb(245,245,245);\n",
        "}\n",
        "\n",
        "div.cell { /* set cell width */\n",
        "    width: 750px;\n",
        "}\n",
        "\n",
        "div #notebook { /* centre the content */\n",
        "    background: #fff; /* white background for content */\n",
        "    width: 1000px;\n",
        "    margin: auto;\n",
        "    padding-left: 0em;\n",
        "}\n",
        "\n",
        "#notebook li { /* More space between bullet points */\n",
        "margin-top:0.8em;\n",
        "}\n",
        "\n",
        "/* draw border around running cells */\n",
        "div.cell.border-box-sizing.code_cell.running { \n",
        "    border: 1px solid #111;\n",
        "}\n",
        "\n",
        "/* Put a solid color box around each cell and its output, visually linking them*/\n",
        "div.cell.code_cell {\n",
        "    background-color: rgb(256,256,256); \n",
        "    border-radius: 0px; \n",
        "    padding: 0.5em;\n",
        "    margin-left:1em;\n",
        "    margin-top: 1em;\n",
        "}\n",
        "\n",
        "div.text_cell_render{\n",
        "    font-family: 'Alegreya Sans' sans-serif;\n",
        "    line-height: 140%;\n",
        "    font-size: 125%;\n",
        "    font-weight: 400;\n",
        "    width:600px;\n",
        "    margin-left:auto;\n",
        "    margin-right:auto;\n",
        "}\n",
        "\n",
        "\n",
        "/* Formatting for header cells */\n",
        ".text_cell_render h1 {\n",
        "    font-family: 'Nixie One', serif;\n",
        "    font-style:regular;\n",
        "    font-weight: 400;    \n",
        "    font-size: 45pt;\n",
        "    line-height: 100%;\n",
        "    color: rgb(0,51,102);\n",
        "    margin-bottom: 0.5em;\n",
        "    margin-top: 0.5em;\n",
        "    display: block;\n",
        "}\t\n",
        ".text_cell_render h2 {\n",
        "    font-family: 'Nixie One', serif;\n",
        "    font-weight: 400;\n",
        "    font-size: 30pt;\n",
        "    line-height: 100%;\n",
        "    color: rgb(0,51,102);\n",
        "    margin-bottom: 0.1em;\n",
        "    margin-top: 0.3em;\n",
        "    display: block;\n",
        "}\t\n",
        "\n",
        ".text_cell_render h3 {\n",
        "    font-family: 'Nixie One', serif;\n",
        "    margin-top:16px;\n",
        "\tfont-size: 22pt;\n",
        "    font-weight: 600;\n",
        "    margin-bottom: 3px;\n",
        "    font-style: regular;\n",
        "    color: rgb(102,102,0);\n",
        "}\n",
        "\n",
        ".text_cell_render h4 {    /*Use this for captions*/\n",
        "    font-family: 'Nixie One', serif;\n",
        "    font-size: 14pt;\n",
        "    text-align: center;\n",
        "    margin-top: 0em;\n",
        "    margin-bottom: 2em;\n",
        "    font-style: regular;\n",
        "}\n",
        "\n",
        ".text_cell_render h5 {  /*Use this for small titles*/\n",
        "    font-family: 'Nixie One', sans-serif;\n",
        "    font-weight: 400;\n",
        "    font-size: 16pt;\n",
        "    color: rgb(163,0,0);\n",
        "    font-style: italic;\n",
        "    margin-bottom: .1em;\n",
        "    margin-top: 0.8em;\n",
        "    display: block;\n",
        "}\n",
        "\n",
        ".text_cell_render h6 { /*use this for copyright note*/\n",
        "    font-family: 'PT Mono', sans-serif;\n",
        "    font-weight: 300;\n",
        "    font-size: 9pt;\n",
        "    line-height: 100%;\n",
        "    color: grey;\n",
        "    margin-bottom: 1px;\n",
        "    margin-top: 1px;\n",
        "}\n",
        "\n",
        ".CodeMirror{\n",
        "        font-family: \"PT Mono\";\n",
        "        font-size: 90%;\n",
        "}\n",
        "\n",
        "</style>\n",
        "<script>\n",
        "    MathJax.Hub.Config({\n",
        "                        TeX: {\n",
        "                           extensions: [\"AMSmath.js\"],\n",
        "                           equationNumbers: { autoNumber: \"AMS\", useLabelIds: true}\n",
        "                           },\n",
        "                tex2jax: {\n",
        "                    inlineMath: [ ['$','$'], [\"\\\\(\",\"\\\\)\"] ],\n",
        "                    displayMath: [ ['$$','$$'], [\"\\\\[\",\"\\\\]\"] ]\n",
        "                },\n",
        "                displayAlign: 'center', // Change this to 'center' to center equations.\n",
        "                \"HTML-CSS\": {\n",
        "                    styles: {'.MathJax_Display': {\"margin\": 4}}\n",
        "                }\n",
        "        });\n",
        "</script>\n"
       ],
       "metadata": {},
       "output_type": "pyout",
       "prompt_number": 5,
       "text": [
        "<IPython.core.display.HTML at 0x105033150>"
       ]
      }
     ],
     "prompt_number": 5
    }
   ],
   "metadata": {}
  }
 ]
}